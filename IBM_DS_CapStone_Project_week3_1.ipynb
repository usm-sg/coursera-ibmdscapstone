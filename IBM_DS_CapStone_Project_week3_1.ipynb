{
 "cells": [
  {
   "cell_type": "markdown",
   "metadata": {
    "collapsed": true
   },
   "source": [
    "## IBM CAPSTOPNE PROJECT"
   ]
  },
  {
   "cell_type": "markdown",
   "metadata": {},
   "source": [
    "### INSTALL BeautifulSoap"
   ]
  },
  {
   "cell_type": "code",
   "execution_count": 67,
   "metadata": {},
   "outputs": [
    {
     "name": "stdout",
     "output_type": "stream",
     "text": [
      "Requirement already satisfied: watson-developer-cloud==1.5 in /opt/conda/envs/Python36/lib/python3.6/site-packages (1.5.0)\n",
      "Requirement already satisfied: autobahn>=0.10.9 in /opt/conda/envs/Python36/lib/python3.6/site-packages (from watson-developer-cloud==1.5) (19.10.1)\n",
      "Requirement already satisfied: service-identity>=17.0.0 in /opt/conda/envs/Python36/lib/python3.6/site-packages (from watson-developer-cloud==1.5) (18.1.0)\n",
      "Requirement already satisfied: requests<3.0,>=2.0 in /opt/conda/envs/Python36/lib/python3.6/site-packages (from watson-developer-cloud==1.5) (2.21.0)\n",
      "Requirement already satisfied: pyOpenSSL>=16.2.0 in /opt/conda/envs/Python36/lib/python3.6/site-packages (from watson-developer-cloud==1.5) (19.0.0)\n",
      "Requirement already satisfied: Twisted>=13.2.0 in /opt/conda/envs/Python36/lib/python3.6/site-packages (from watson-developer-cloud==1.5) (19.7.0)\n",
      "Requirement already satisfied: python-dateutil>=2.5.3 in /opt/conda/envs/Python36/lib/python3.6/site-packages (from watson-developer-cloud==1.5) (2.7.5)\n",
      "Requirement already satisfied: txaio>=18.8.1 in /opt/conda/envs/Python36/lib/python3.6/site-packages (from autobahn>=0.10.9->watson-developer-cloud==1.5) (18.8.1)\n",
      "Requirement already satisfied: cryptography>=2.7 in /opt/conda/envs/Python36/lib/python3.6/site-packages (from autobahn>=0.10.9->watson-developer-cloud==1.5) (2.8)\n",
      "Requirement already satisfied: six>=1.11.0 in /opt/conda/envs/Python36/lib/python3.6/site-packages (from autobahn>=0.10.9->watson-developer-cloud==1.5) (1.12.0)\n",
      "Requirement already satisfied: attrs>=16.0.0 in /opt/conda/envs/Python36/lib/python3.6/site-packages (from service-identity>=17.0.0->watson-developer-cloud==1.5) (18.2.0)\n",
      "Requirement already satisfied: pyasn1-modules in /opt/conda/envs/Python36/lib/python3.6/site-packages (from service-identity>=17.0.0->watson-developer-cloud==1.5) (0.2.7)\n",
      "Requirement already satisfied: pyasn1 in /opt/conda/envs/Python36/lib/python3.6/site-packages (from service-identity>=17.0.0->watson-developer-cloud==1.5) (0.4.7)\n",
      "Requirement already satisfied: chardet<3.1.0,>=3.0.2 in /opt/conda/envs/Python36/lib/python3.6/site-packages (from requests<3.0,>=2.0->watson-developer-cloud==1.5) (3.0.4)\n",
      "Requirement already satisfied: idna<2.9,>=2.5 in /opt/conda/envs/Python36/lib/python3.6/site-packages (from requests<3.0,>=2.0->watson-developer-cloud==1.5) (2.8)\n",
      "Requirement already satisfied: certifi>=2017.4.17 in /opt/conda/envs/Python36/lib/python3.6/site-packages (from requests<3.0,>=2.0->watson-developer-cloud==1.5) (2019.9.11)\n",
      "Requirement already satisfied: urllib3<1.25,>=1.21.1 in /opt/conda/envs/Python36/lib/python3.6/site-packages (from requests<3.0,>=2.0->watson-developer-cloud==1.5) (1.24.1)\n",
      "Requirement already satisfied: constantly>=15.1 in /opt/conda/envs/Python36/lib/python3.6/site-packages (from Twisted>=13.2.0->watson-developer-cloud==1.5) (15.1.0)\n",
      "Requirement already satisfied: PyHamcrest>=1.9.0 in /opt/conda/envs/Python36/lib/python3.6/site-packages (from Twisted>=13.2.0->watson-developer-cloud==1.5) (1.9.0)\n",
      "Requirement already satisfied: hyperlink>=17.1.1 in /opt/conda/envs/Python36/lib/python3.6/site-packages (from Twisted>=13.2.0->watson-developer-cloud==1.5) (19.0.0)\n",
      "Requirement already satisfied: Automat>=0.3.0 in /opt/conda/envs/Python36/lib/python3.6/site-packages (from Twisted>=13.2.0->watson-developer-cloud==1.5) (0.8.0)\n",
      "Requirement already satisfied: incremental>=16.10.1 in /opt/conda/envs/Python36/lib/python3.6/site-packages (from Twisted>=13.2.0->watson-developer-cloud==1.5) (17.5.0)\n",
      "Requirement already satisfied: zope.interface>=4.4.2 in /opt/conda/envs/Python36/lib/python3.6/site-packages (from Twisted>=13.2.0->watson-developer-cloud==1.5) (4.6.0)\n",
      "Requirement already satisfied: cffi!=1.11.3,>=1.8 in /opt/conda/envs/Python36/lib/python3.6/site-packages (from cryptography>=2.7->autobahn>=0.10.9->watson-developer-cloud==1.5) (1.11.5)\n",
      "Requirement already satisfied: setuptools in /opt/conda/envs/Python36/lib/python3.6/site-packages (from PyHamcrest>=1.9.0->Twisted>=13.2.0->watson-developer-cloud==1.5) (40.8.0)\n",
      "Requirement already satisfied: pycparser in /opt/conda/envs/Python36/lib/python3.6/site-packages (from cffi!=1.11.3,>=1.8->cryptography>=2.7->autobahn>=0.10.9->watson-developer-cloud==1.5) (2.19)\n"
     ]
    }
   ],
   "source": [
    "!pip install watson-developer-cloud==1.5"
   ]
  },
  {
   "cell_type": "code",
   "execution_count": 68,
   "metadata": {},
   "outputs": [],
   "source": [
    "import pandas as pd\n",
    "import numpy as np\n",
    "from bs4 import BeautifulSoup\n",
    "import requests"
   ]
  },
  {
   "cell_type": "markdown",
   "metadata": {},
   "source": [
    "### Fetch Data"
   ]
  },
  {
   "cell_type": "code",
   "execution_count": 69,
   "metadata": {},
   "outputs": [
    {
     "data": {
      "text/html": [
       "<div>\n",
       "<style scoped>\n",
       "    .dataframe tbody tr th:only-of-type {\n",
       "        vertical-align: middle;\n",
       "    }\n",
       "\n",
       "    .dataframe tbody tr th {\n",
       "        vertical-align: top;\n",
       "    }\n",
       "\n",
       "    .dataframe thead th {\n",
       "        text-align: right;\n",
       "    }\n",
       "</style>\n",
       "<table border=\"1\" class=\"dataframe\">\n",
       "  <thead>\n",
       "    <tr style=\"text-align: right;\">\n",
       "      <th></th>\n",
       "      <th>Postcode</th>\n",
       "      <th>Borough</th>\n",
       "      <th>Neighbourhood</th>\n",
       "    </tr>\n",
       "  </thead>\n",
       "  <tbody>\n",
       "    <tr>\n",
       "      <th>0</th>\n",
       "      <td>M1A</td>\n",
       "      <td>Not assigned</td>\n",
       "      <td>Not assigned\\n</td>\n",
       "    </tr>\n",
       "    <tr>\n",
       "      <th>1</th>\n",
       "      <td>M2A</td>\n",
       "      <td>Not assigned</td>\n",
       "      <td>Not assigned\\n</td>\n",
       "    </tr>\n",
       "    <tr>\n",
       "      <th>2</th>\n",
       "      <td>M3A</td>\n",
       "      <td>North York</td>\n",
       "      <td>Parkwoods\\n</td>\n",
       "    </tr>\n",
       "    <tr>\n",
       "      <th>3</th>\n",
       "      <td>M4A</td>\n",
       "      <td>North York</td>\n",
       "      <td>Victoria Village\\n</td>\n",
       "    </tr>\n",
       "    <tr>\n",
       "      <th>4</th>\n",
       "      <td>M5A</td>\n",
       "      <td>Downtown Toronto</td>\n",
       "      <td>Harbourfront\\n</td>\n",
       "    </tr>\n",
       "    <tr>\n",
       "      <th>5</th>\n",
       "      <td>M5A</td>\n",
       "      <td>Downtown Toronto</td>\n",
       "      <td>Regent Park\\n</td>\n",
       "    </tr>\n",
       "    <tr>\n",
       "      <th>6</th>\n",
       "      <td>M6A</td>\n",
       "      <td>North York</td>\n",
       "      <td>Lawrence Heights\\n</td>\n",
       "    </tr>\n",
       "    <tr>\n",
       "      <th>7</th>\n",
       "      <td>M6A</td>\n",
       "      <td>North York</td>\n",
       "      <td>Lawrence Manor\\n</td>\n",
       "    </tr>\n",
       "    <tr>\n",
       "      <th>8</th>\n",
       "      <td>M7A</td>\n",
       "      <td>Queen's Park</td>\n",
       "      <td>Not assigned\\n</td>\n",
       "    </tr>\n",
       "    <tr>\n",
       "      <th>9</th>\n",
       "      <td>M8A</td>\n",
       "      <td>Not assigned</td>\n",
       "      <td>Not assigned\\n</td>\n",
       "    </tr>\n",
       "  </tbody>\n",
       "</table>\n",
       "</div>"
      ],
      "text/plain": [
       "  Postcode           Borough       Neighbourhood\n",
       "0      M1A      Not assigned      Not assigned\\n\n",
       "1      M2A      Not assigned      Not assigned\\n\n",
       "2      M3A        North York         Parkwoods\\n\n",
       "3      M4A        North York  Victoria Village\\n\n",
       "4      M5A  Downtown Toronto      Harbourfront\\n\n",
       "5      M5A  Downtown Toronto       Regent Park\\n\n",
       "6      M6A        North York  Lawrence Heights\\n\n",
       "7      M6A        North York    Lawrence Manor\\n\n",
       "8      M7A      Queen's Park      Not assigned\\n\n",
       "9      M8A      Not assigned      Not assigned\\n"
      ]
     },
     "execution_count": 69,
     "metadata": {},
     "output_type": "execute_result"
    }
   ],
   "source": [
    "urlx=\"https://en.wikipedia.org/wiki/List_of_postal_codes_of_Canada:_M\"\n",
    "html_content = requests.get(urlx).text\n",
    "\n",
    "# Parse the html content\n",
    "soup = BeautifulSoup(html_content, \"lxml\")\n",
    "#get the table\n",
    "ziptable = soup.find(\"table\", attrs={\"class\": \"wikitable\"})\n",
    "# get the rows in the body\n",
    "zipdata = ziptable.tbody.find_all(\"tr\") \n",
    "# Get all the headings of Lists\n",
    "headings = []\n",
    "for td in zipdata[0].find_all(\"th\"):\n",
    "    # remove any newlines and extra spaces from left and right\n",
    "    headings.append(td.text.replace('\\n', ' ').strip())\n",
    "\n",
    "#prepare data frame    \n",
    "df = pd.DataFrame(columns = headings, index= range(0,len(zipdata)-1))\n",
    "\n",
    "#collect table data into datafram\n",
    "row_marker = 0\n",
    "for row in zipdata:\n",
    "    column_marker = 0\n",
    "    columns = row.find_all(\"td\")\n",
    "    for column in columns:\n",
    "        df.iat[row_marker,column_marker] = column.get_text()\n",
    "        column_marker += 1\n",
    "    if len(columns) >0:\n",
    "        row_marker += 1\n",
    "#check data frame\n",
    "df.head(10)               "
   ]
  },
  {
   "cell_type": "markdown",
   "metadata": {},
   "source": [
    "### Edit Data"
   ]
  },
  {
   "cell_type": "code",
   "execution_count": 70,
   "metadata": {},
   "outputs": [
    {
     "data": {
      "text/html": [
       "<div>\n",
       "<style scoped>\n",
       "    .dataframe tbody tr th:only-of-type {\n",
       "        vertical-align: middle;\n",
       "    }\n",
       "\n",
       "    .dataframe tbody tr th {\n",
       "        vertical-align: top;\n",
       "    }\n",
       "\n",
       "    .dataframe thead th {\n",
       "        text-align: right;\n",
       "    }\n",
       "</style>\n",
       "<table border=\"1\" class=\"dataframe\">\n",
       "  <thead>\n",
       "    <tr style=\"text-align: right;\">\n",
       "      <th></th>\n",
       "      <th>Postcode</th>\n",
       "      <th>Borough</th>\n",
       "      <th>Neighbourhood</th>\n",
       "    </tr>\n",
       "  </thead>\n",
       "  <tbody>\n",
       "    <tr>\n",
       "      <th>2</th>\n",
       "      <td>M3A</td>\n",
       "      <td>North York</td>\n",
       "      <td>Parkwoods\\n</td>\n",
       "    </tr>\n",
       "    <tr>\n",
       "      <th>3</th>\n",
       "      <td>M4A</td>\n",
       "      <td>North York</td>\n",
       "      <td>Victoria Village\\n</td>\n",
       "    </tr>\n",
       "    <tr>\n",
       "      <th>4</th>\n",
       "      <td>M5A</td>\n",
       "      <td>Downtown Toronto</td>\n",
       "      <td>Harbourfront\\n</td>\n",
       "    </tr>\n",
       "    <tr>\n",
       "      <th>5</th>\n",
       "      <td>M5A</td>\n",
       "      <td>Downtown Toronto</td>\n",
       "      <td>Regent Park\\n</td>\n",
       "    </tr>\n",
       "    <tr>\n",
       "      <th>6</th>\n",
       "      <td>M6A</td>\n",
       "      <td>North York</td>\n",
       "      <td>Lawrence Heights\\n</td>\n",
       "    </tr>\n",
       "    <tr>\n",
       "      <th>7</th>\n",
       "      <td>M6A</td>\n",
       "      <td>North York</td>\n",
       "      <td>Lawrence Manor\\n</td>\n",
       "    </tr>\n",
       "    <tr>\n",
       "      <th>8</th>\n",
       "      <td>M7A</td>\n",
       "      <td>Queen's Park</td>\n",
       "      <td>Not assigned\\n</td>\n",
       "    </tr>\n",
       "    <tr>\n",
       "      <th>10</th>\n",
       "      <td>M9A</td>\n",
       "      <td>Etobicoke</td>\n",
       "      <td>Islington Avenue\\n</td>\n",
       "    </tr>\n",
       "    <tr>\n",
       "      <th>11</th>\n",
       "      <td>M1B</td>\n",
       "      <td>Scarborough</td>\n",
       "      <td>Rouge\\n</td>\n",
       "    </tr>\n",
       "    <tr>\n",
       "      <th>12</th>\n",
       "      <td>M1B</td>\n",
       "      <td>Scarborough</td>\n",
       "      <td>Malvern\\n</td>\n",
       "    </tr>\n",
       "  </tbody>\n",
       "</table>\n",
       "</div>"
      ],
      "text/plain": [
       "   Postcode           Borough       Neighbourhood\n",
       "2       M3A        North York         Parkwoods\\n\n",
       "3       M4A        North York  Victoria Village\\n\n",
       "4       M5A  Downtown Toronto      Harbourfront\\n\n",
       "5       M5A  Downtown Toronto       Regent Park\\n\n",
       "6       M6A        North York  Lawrence Heights\\n\n",
       "7       M6A        North York    Lawrence Manor\\n\n",
       "8       M7A      Queen's Park      Not assigned\\n\n",
       "10      M9A         Etobicoke  Islington Avenue\\n\n",
       "11      M1B       Scarborough             Rouge\\n\n",
       "12      M1B       Scarborough           Malvern\\n"
      ]
     },
     "execution_count": 70,
     "metadata": {},
     "output_type": "execute_result"
    }
   ],
   "source": [
    "#apply Borough requirement\n",
    "df2 = df[~df['Borough'].str.contains('Not assigned', na=False)]\n",
    "df2.head(10)"
   ]
  },
  {
   "cell_type": "code",
   "execution_count": 71,
   "metadata": {},
   "outputs": [
    {
     "name": "stderr",
     "output_type": "stream",
     "text": [
      "/opt/conda/envs/Python36/lib/python3.6/site-packages/ipykernel/__main__.py:2: SettingWithCopyWarning: \n",
      "A value is trying to be set on a copy of a slice from a DataFrame.\n",
      "Try using .loc[row_indexer,col_indexer] = value instead\n",
      "\n",
      "See the caveats in the documentation: http://pandas.pydata.org/pandas-docs/stable/indexing.html#indexing-view-versus-copy\n",
      "  from ipykernel import kernelapp as app\n"
     ]
    },
    {
     "data": {
      "text/html": [
       "<div>\n",
       "<style scoped>\n",
       "    .dataframe tbody tr th:only-of-type {\n",
       "        vertical-align: middle;\n",
       "    }\n",
       "\n",
       "    .dataframe tbody tr th {\n",
       "        vertical-align: top;\n",
       "    }\n",
       "\n",
       "    .dataframe thead th {\n",
       "        text-align: right;\n",
       "    }\n",
       "</style>\n",
       "<table border=\"1\" class=\"dataframe\">\n",
       "  <thead>\n",
       "    <tr style=\"text-align: right;\">\n",
       "      <th></th>\n",
       "      <th>Postcode</th>\n",
       "      <th>Borough</th>\n",
       "      <th>Neighbourhood</th>\n",
       "    </tr>\n",
       "  </thead>\n",
       "  <tbody>\n",
       "    <tr>\n",
       "      <th>2</th>\n",
       "      <td>M3A</td>\n",
       "      <td>North York</td>\n",
       "      <td>Parkwoods\\n</td>\n",
       "    </tr>\n",
       "    <tr>\n",
       "      <th>3</th>\n",
       "      <td>M4A</td>\n",
       "      <td>North York</td>\n",
       "      <td>Victoria Village\\n</td>\n",
       "    </tr>\n",
       "    <tr>\n",
       "      <th>4</th>\n",
       "      <td>M5A</td>\n",
       "      <td>Downtown Toronto</td>\n",
       "      <td>Harbourfront\\n</td>\n",
       "    </tr>\n",
       "    <tr>\n",
       "      <th>5</th>\n",
       "      <td>M5A</td>\n",
       "      <td>Downtown Toronto</td>\n",
       "      <td>Regent Park\\n</td>\n",
       "    </tr>\n",
       "    <tr>\n",
       "      <th>6</th>\n",
       "      <td>M6A</td>\n",
       "      <td>North York</td>\n",
       "      <td>Lawrence Heights\\n</td>\n",
       "    </tr>\n",
       "    <tr>\n",
       "      <th>7</th>\n",
       "      <td>M6A</td>\n",
       "      <td>North York</td>\n",
       "      <td>Lawrence Manor\\n</td>\n",
       "    </tr>\n",
       "    <tr>\n",
       "      <th>8</th>\n",
       "      <td>M7A</td>\n",
       "      <td>Queen's Park</td>\n",
       "      <td>Queen's Park</td>\n",
       "    </tr>\n",
       "    <tr>\n",
       "      <th>10</th>\n",
       "      <td>M9A</td>\n",
       "      <td>Etobicoke</td>\n",
       "      <td>Islington Avenue\\n</td>\n",
       "    </tr>\n",
       "    <tr>\n",
       "      <th>11</th>\n",
       "      <td>M1B</td>\n",
       "      <td>Scarborough</td>\n",
       "      <td>Rouge\\n</td>\n",
       "    </tr>\n",
       "    <tr>\n",
       "      <th>12</th>\n",
       "      <td>M1B</td>\n",
       "      <td>Scarborough</td>\n",
       "      <td>Malvern\\n</td>\n",
       "    </tr>\n",
       "  </tbody>\n",
       "</table>\n",
       "</div>"
      ],
      "text/plain": [
       "   Postcode           Borough       Neighbourhood\n",
       "2       M3A        North York         Parkwoods\\n\n",
       "3       M4A        North York  Victoria Village\\n\n",
       "4       M5A  Downtown Toronto      Harbourfront\\n\n",
       "5       M5A  Downtown Toronto       Regent Park\\n\n",
       "6       M6A        North York  Lawrence Heights\\n\n",
       "7       M6A        North York    Lawrence Manor\\n\n",
       "8       M7A      Queen's Park        Queen's Park\n",
       "10      M9A         Etobicoke  Islington Avenue\\n\n",
       "11      M1B       Scarborough             Rouge\\n\n",
       "12      M1B       Scarborough           Malvern\\n"
      ]
     },
     "execution_count": 71,
     "metadata": {},
     "output_type": "execute_result"
    }
   ],
   "source": [
    "#apply Neighbourhood requirement                 \n",
    "df2['Neighbourhood'] = np.where(df2['Neighbourhood'].str.contains('Not assigned', na=False),  df2['Borough'], df2['Neighbourhood'])\n",
    "df2.head(10)"
   ]
  },
  {
   "cell_type": "markdown",
   "metadata": {},
   "source": [
    "### CHECK The Shape"
   ]
  },
  {
   "cell_type": "code",
   "execution_count": 65,
   "metadata": {},
   "outputs": [
    {
     "data": {
      "text/plain": [
       "(211, 3)"
      ]
     },
     "execution_count": 65,
     "metadata": {},
     "output_type": "execute_result"
    }
   ],
   "source": [
    "df2.shape"
   ]
  }
 ],
 "metadata": {
  "kernelspec": {
   "display_name": "Python 3.6",
   "language": "python",
   "name": "python3"
  },
  "language_info": {
   "codemirror_mode": {
    "name": "ipython",
    "version": 3
   },
   "file_extension": ".py",
   "mimetype": "text/x-python",
   "name": "python",
   "nbconvert_exporter": "python",
   "pygments_lexer": "ipython3",
   "version": "3.6.8"
  }
 },
 "nbformat": 4,
 "nbformat_minor": 1
}
